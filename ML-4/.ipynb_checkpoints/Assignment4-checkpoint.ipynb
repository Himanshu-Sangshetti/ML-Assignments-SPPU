{
 "cells": [
  {
   "cell_type": "markdown",
   "id": "e58ee6a2-7a89-43e8-b9dc-d2297286970e",
   "metadata": {},
   "source": [
    "# ASSIGNMENT 4"
   ]
  },
  {
   "cell_type": "code",
   "execution_count": 17,
   "id": "cc3be22e-57c8-4362-9888-619c5a6cc104",
   "metadata": {},
   "outputs": [
    {
     "name": "stdout",
     "output_type": "stream",
     "text": [
      "Failed to read with encoding utf-8. Trying the next one.\n",
      "File Read Successfully with Encoding: ISO-8859-1\n",
      "        v1                                                 v2 Unnamed: 2  \\\n",
      "0      ham  Go until jurong point, crazy.. Available only ...        NaN   \n",
      "1      ham                      Ok lar... Joking wif u oni...        NaN   \n",
      "2     spam  Free entry in 2 a wkly comp to win FA Cup fina...        NaN   \n",
      "3      ham  U dun say so early hor... U c already then say...        NaN   \n",
      "4      ham  Nah I don't think he goes to usf, he lives aro...        NaN   \n",
      "...    ...                                                ...        ...   \n",
      "5567  spam  This is the 2nd time we have tried 2 contact u...        NaN   \n",
      "5568   ham              Will Ì_ b going to esplanade fr home?        NaN   \n",
      "5569   ham  Pity, * was in mood for that. So...any other s...        NaN   \n",
      "5570   ham  The guy did some bitching but I acted like i'd...        NaN   \n",
      "5571   ham                         Rofl. Its true to its name        NaN   \n",
      "\n",
      "     Unnamed: 3 Unnamed: 4  \n",
      "0           NaN        NaN  \n",
      "1           NaN        NaN  \n",
      "2           NaN        NaN  \n",
      "3           NaN        NaN  \n",
      "4           NaN        NaN  \n",
      "...         ...        ...  \n",
      "5567        NaN        NaN  \n",
      "5568        NaN        NaN  \n",
      "5569        NaN        NaN  \n",
      "5570        NaN        NaN  \n",
      "5571        NaN        NaN  \n",
      "\n",
      "[5572 rows x 5 columns]\n"
     ]
    }
   ],
   "source": [
    "import pandas as pd\n",
    "\n",
    "# Try reading the CSV file with different encodings as it doesnt work with utf-8\n",
    "encodings_to_try = ['utf-8', 'ISO-8859-1', 'cp1252']\n",
    "\n",
    "for encoding in encodings_to_try:\n",
    "    try:\n",
    "        df = pd.read_csv(r\"spam.csv\", encoding=encoding)\n",
    "        print(\"File Read Successfully with Encoding:\", encoding)\n",
    "        print(df)\n",
    "        break\n",
    "    except UnicodeDecodeError:\n",
    "        print(f\"Failed to read with encoding {encoding}. Trying the next one.\")"
   ]
  },
  {
   "cell_type": "markdown",
   "id": "9e9cb07b-455c-4af4-90a8-3d32e8e25c1b",
   "metadata": {},
   "source": [
    "### Pre-processing"
   ]
  },
  {
   "cell_type": "code",
   "execution_count": 18,
   "id": "98e8ccdf-4f9f-47ef-9c81-1a9b018c52b6",
   "metadata": {},
   "outputs": [
    {
     "name": "stdout",
     "output_type": "stream",
     "text": [
      "        v1                                                 v2\n",
      "0      ham  Go until jurong point, crazy.. Available only ...\n",
      "1      ham                      Ok lar... Joking wif u oni...\n",
      "2     spam  Free entry in 2 a wkly comp to win FA Cup fina...\n",
      "3      ham  U dun say so early hor... U c already then say...\n",
      "4      ham  Nah I don't think he goes to usf, he lives aro...\n",
      "...    ...                                                ...\n",
      "5567  spam  This is the 2nd time we have tried 2 contact u...\n",
      "5568   ham              Will Ì_ b going to esplanade fr home?\n",
      "5569   ham  Pity, * was in mood for that. So...any other s...\n",
      "5570   ham  The guy did some bitching but I acted like i'd...\n",
      "5571   ham                         Rofl. Its true to its name\n",
      "\n",
      "[5572 rows x 2 columns]\n"
     ]
    }
   ],
   "source": [
    "df=df.drop(columns=[\"Unnamed: 2\",\"Unnamed: 3\",\"Unnamed: 4\"])\n",
    "print(df)"
   ]
  },
  {
   "cell_type": "code",
   "execution_count": 19,
   "id": "488d82f5-fa24-48b2-a26e-0983d914fbdf",
   "metadata": {},
   "outputs": [],
   "source": [
    "from sklearn.preprocessing import LabelEncoder\n",
    "\n",
    "df.dropna()\n",
    "\n",
    "label_encoder=LabelEncoder()\n",
    "df[\"v1\"]=label_encoder.fit_transform(df[\"v1\"])"
   ]
  },
  {
   "cell_type": "markdown",
   "id": "2c4b79de-d1fb-4e33-8f65-d99418854a5f",
   "metadata": {},
   "source": [
    "### Splitting data"
   ]
  },
  {
   "cell_type": "code",
   "execution_count": 29,
   "id": "21d96eec-187f-4c29-90bc-a95e3481e0be",
   "metadata": {},
   "outputs": [],
   "source": [
    "from sklearn.model_selection import train_test_split\n",
    "from sklearn.feature_extraction.text import CountVectorizer\n",
    "\n",
    "y=df[\"v1\"]\n",
    "X=df[\"v2\"]\n",
    "\n",
    "X_train,X_test,y_train,y_test=train_test_split(X,y,test_size=0.25,random_state=42)\n",
    "\n",
    "vectorizer=CountVectorizer()\n",
    "X_train_vectorized=vectorizer.fit_transform(X_train)\n",
    "X_test_vectorized=vectorizer.transform(X_test)\n"
   ]
  },
  {
   "cell_type": "markdown",
   "id": "89a3cf9b-b2e9-4107-b2a5-09253e9596d6",
   "metadata": {},
   "source": [
    "### Classification using Naive Bayes, Decision Tree, SVM"
   ]
  },
  {
   "cell_type": "code",
   "execution_count": 30,
   "id": "9b2e2799-8c82-4971-847e-502925e5ba40",
   "metadata": {},
   "outputs": [],
   "source": [
    "from sklearn.naive_bayes import MultinomialNB\n",
    "from sklearn.tree import DecisionTreeClassifier\n",
    "from sklearn.svm import SVC\n",
    "\n",
    "#Naive Bayes\n",
    "nb_classifier=MultinomialNB()\n",
    "nb_classifier.fit(X_train_vectorized,y_train)\n",
    "y_pred=nb_classifier.predict(X_test_vectorized)\n",
    "\n",
    "\n",
    "#Decision Tree Classifier\n",
    "model=DecisionTreeClassifier(criterion=\"gini\",max_depth=3,random_state=42)\n",
    "model.fit(X_train_vectorized,y_train)\n",
    "y_pred=model.predict(X_test_vectorized)\n",
    "\n",
    "\n",
    "#SVM\n",
    "svc_classifier=SVC(kernel=\"linear\")\n",
    "svc_classifier.fit(X_train_vectorized,y_train)\n",
    "y_pred=svc_classifier.predict(X_test_vectorized)\n"
   ]
  },
  {
   "cell_type": "markdown",
   "id": "120e7133-f30e-41b8-913c-9d9cd241d4ad",
   "metadata": {},
   "source": [
    "### Cross-validation for above models"
   ]
  },
  {
   "cell_type": "code",
   "execution_count": 33,
   "id": "015e73e8-518e-4e7d-9c19-52b8cbf60cfc",
   "metadata": {},
   "outputs": [
    {
     "name": "stdout",
     "output_type": "stream",
     "text": [
      "Naive Bayes Cross-Validation Scores: [0.98444976 0.98803828 0.98684211 0.98205742 0.96886228]\n",
      "Mean Accuracy: 0.9820499670515428\n",
      "\n",
      "Decision tree Cross-Validation Scores: [0.95095694 0.93660287 0.93301435 0.93421053 0.94371257]\n",
      "Mean Accuracy: 0.9396994527691028\n",
      "\n",
      "SVM Cross-Validation Scores: [0.99162679 0.98803828 0.98205742 0.98325359 0.98443114]\n",
      "Mean Accuracy: 0.985881442855915\n",
      "\n"
     ]
    }
   ],
   "source": [
    "from sklearn.model_selection import cross_val_score, GridSearchCV\n",
    "\n",
    "nb_cv_scores = cross_val_score(nb_classifier, X_train_vectorized, y_train, cv=5, scoring='accuracy')\n",
    "print(f\"Naive Bayes Cross-Validation Scores: {nb_cv_scores}\")\n",
    "print(f\"Mean Accuracy: {nb_cv_scores.mean()}\\n\")\n",
    "\n",
    "dtc_cv_scores = cross_val_score(model, X_train_vectorized, y_train, cv=5, scoring='accuracy')\n",
    "print(f\"Decision tree Cross-Validation Scores: {dtc_cv_scores}\")\n",
    "print(f\"Mean Accuracy: {dtc_cv_scores.mean()}\\n\")\n",
    "\n",
    "svm_cv_scores = cross_val_score(svc_classifier, X_train_vectorized, y_train, cv=5, scoring='accuracy')\n",
    "print(f\"SVM Cross-Validation Scores: {svm_cv_scores}\")\n",
    "print(f\"Mean Accuracy: {svm_cv_scores.mean()}\\n\")"
   ]
  },
  {
   "cell_type": "markdown",
   "id": "b277ae87-fce8-470b-8d1e-20dce087560c",
   "metadata": {},
   "source": [
    "### Hypertuning for above models"
   ]
  },
  {
   "cell_type": "code",
   "execution_count": 37,
   "id": "22f002fd-34d5-4afb-91e1-86b97f44f1ac",
   "metadata": {},
   "outputs": [
    {
     "name": "stdout",
     "output_type": "stream",
     "text": [
      "Best Naive Bayes Hyperparameters: {'alpha': 1.0}\n",
      "Best Decision Tree Hyperparameters: {'criterion': 'gini', 'max_depth': None, 'min_samples_leaf': 1, 'min_samples_split': 2}\n",
      "Best SVM Hyperparameters: {'C': 1, 'kernel': 'linear'}\n"
     ]
    }
   ],
   "source": [
    "nb_param_grid = {'alpha': [0.1, 0.5, 1.0, 2.0]}\n",
    "nb_grid_search = GridSearchCV(nb_classifier, nb_param_grid, cv=5, scoring='accuracy')\n",
    "nb_grid_search.fit(X_train_vectorized, y_train)\n",
    "print(f\"Best Naive Bayes Hyperparameters: {nb_grid_search.best_params_}\")\n",
    "\n",
    "dt_param_grid = {\n",
    "    'criterion': ['gini', 'entropy'],\n",
    "    'max_depth': [None, 5, 10, 15],\n",
    "    'min_samples_split': [2, 5, 10],\n",
    "    'min_samples_leaf': [1, 2, 4]\n",
    "}\n",
    "\n",
    "dt_grid_search = GridSearchCV(model, dt_param_grid, cv=5, scoring='accuracy')\n",
    "dt_grid_search.fit(X_train_vectorized, y_train)\n",
    "print(f\"Best Decision Tree Hyperparameters: {dt_grid_search.best_params_}\")\n",
    "\n",
    "svm_param_grid = {'C': [0.1, 1, 10], 'kernel': ['linear', 'rbf']}\n",
    "svm_grid_search = GridSearchCV(svc_classifier, svm_param_grid, cv=5, scoring='accuracy')\n",
    "svm_grid_search.fit(X_train_vectorized, y_train)\n",
    "print(f\"Best SVM Hyperparameters: {svm_grid_search.best_params_}\")"
   ]
  }
 ],
 "metadata": {
  "kernelspec": {
   "display_name": "Python 3 (ipykernel)",
   "language": "python",
   "name": "python3"
  },
  "language_info": {
   "codemirror_mode": {
    "name": "ipython",
    "version": 3
   },
   "file_extension": ".py",
   "mimetype": "text/x-python",
   "name": "python",
   "nbconvert_exporter": "python",
   "pygments_lexer": "ipython3",
   "version": "3.11.5"
  }
 },
 "nbformat": 4,
 "nbformat_minor": 5
}
