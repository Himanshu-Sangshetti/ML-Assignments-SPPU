{
 "cells": [
  {
   "cell_type": "markdown",
   "id": "74020ca9-9b2a-42e0-826a-bae912ba9fb4",
   "metadata": {},
   "source": [
    "# ASSIGNMENT 6"
   ]
  },
  {
   "cell_type": "code",
   "execution_count": 32,
   "id": "fd7ab0ab-71fd-4f16-87d8-fab7de5bc3dd",
   "metadata": {},
   "outputs": [
    {
     "name": "stdout",
     "output_type": "stream",
     "text": [
      "              shrimp            almonds      avocado    vegetables mix  \\\n",
      "0            burgers          meatballs         eggs               NaN   \n",
      "1            chutney                NaN          NaN               NaN   \n",
      "2             turkey            avocado          NaN               NaN   \n",
      "3      mineral water               milk   energy bar  whole wheat rice   \n",
      "4     low fat yogurt                NaN          NaN               NaN   \n",
      "...              ...                ...          ...               ...   \n",
      "7495          butter         light mayo  fresh bread               NaN   \n",
      "7496         burgers  frozen vegetables         eggs      french fries   \n",
      "7497         chicken                NaN          NaN               NaN   \n",
      "7498        escalope          green tea          NaN               NaN   \n",
      "7499            eggs    frozen smoothie  yogurt cake    low fat yogurt   \n",
      "\n",
      "     green grapes whole weat flour yams cottage cheese energy drink  \\\n",
      "0             NaN              NaN  NaN            NaN          NaN   \n",
      "1             NaN              NaN  NaN            NaN          NaN   \n",
      "2             NaN              NaN  NaN            NaN          NaN   \n",
      "3       green tea              NaN  NaN            NaN          NaN   \n",
      "4             NaN              NaN  NaN            NaN          NaN   \n",
      "...           ...              ...  ...            ...          ...   \n",
      "7495          NaN              NaN  NaN            NaN          NaN   \n",
      "7496    magazines        green tea  NaN            NaN          NaN   \n",
      "7497          NaN              NaN  NaN            NaN          NaN   \n",
      "7498          NaN              NaN  NaN            NaN          NaN   \n",
      "7499          NaN              NaN  NaN            NaN          NaN   \n",
      "\n",
      "     tomato juice low fat yogurt green tea honey salad mineral water salmon  \\\n",
      "0             NaN            NaN       NaN   NaN   NaN           NaN    NaN   \n",
      "1             NaN            NaN       NaN   NaN   NaN           NaN    NaN   \n",
      "2             NaN            NaN       NaN   NaN   NaN           NaN    NaN   \n",
      "3             NaN            NaN       NaN   NaN   NaN           NaN    NaN   \n",
      "4             NaN            NaN       NaN   NaN   NaN           NaN    NaN   \n",
      "...           ...            ...       ...   ...   ...           ...    ...   \n",
      "7495          NaN            NaN       NaN   NaN   NaN           NaN    NaN   \n",
      "7496          NaN            NaN       NaN   NaN   NaN           NaN    NaN   \n",
      "7497          NaN            NaN       NaN   NaN   NaN           NaN    NaN   \n",
      "7498          NaN            NaN       NaN   NaN   NaN           NaN    NaN   \n",
      "7499          NaN            NaN       NaN   NaN   NaN           NaN    NaN   \n",
      "\n",
      "     antioxydant juice frozen smoothie spinach  olive oil  \n",
      "0                  NaN             NaN     NaN        NaN  \n",
      "1                  NaN             NaN     NaN        NaN  \n",
      "2                  NaN             NaN     NaN        NaN  \n",
      "3                  NaN             NaN     NaN        NaN  \n",
      "4                  NaN             NaN     NaN        NaN  \n",
      "...                ...             ...     ...        ...  \n",
      "7495               NaN             NaN     NaN        NaN  \n",
      "7496               NaN             NaN     NaN        NaN  \n",
      "7497               NaN             NaN     NaN        NaN  \n",
      "7498               NaN             NaN     NaN        NaN  \n",
      "7499               NaN             NaN     NaN        NaN  \n",
      "\n",
      "[7500 rows x 20 columns]\n"
     ]
    }
   ],
   "source": [
    "import pandas as pd\n",
    "df=pd.read_csv(r'Market_Basket_Optimisation.csv')\n",
    "print(df)"
   ]
  },
  {
   "cell_type": "code",
   "execution_count": 33,
   "id": "fa8fab99-277f-425f-81d6-04d530f9d2f5",
   "metadata": {},
   "outputs": [],
   "source": [
    "transactions = []\n",
    "for i in range(df.shape[0]):\n",
    "    transactions.append([str(df.values[i, j]) for j in range(df.shape[1]) if pd.notna(df.values[i, j])])\n"
   ]
  },
  {
   "cell_type": "markdown",
   "id": "bc141623-376a-410d-a770-bf6ebe629e3c",
   "metadata": {},
   "source": [
    "!pip install apyori"
   ]
  },
  {
   "cell_type": "code",
   "execution_count": 34,
   "id": "ee72f433-c434-4828-9d85-329ffe2b5bc5",
   "metadata": {},
   "outputs": [],
   "source": [
    "from apyori import apriori\n",
    "\n",
    "rule_list = apriori(transactions, min_support = 0.003, min_confidence = 0.6, min_lift = 3, min_length = 2)"
   ]
  },
  {
   "cell_type": "markdown",
   "id": "f89291fc-87da-40d2-a2cd-f491be9fe44e",
   "metadata": {},
   "source": [
    "### Displaying results"
   ]
  },
  {
   "cell_type": "code",
   "execution_count": 35,
   "id": "efefda99-d2a5-492e-a7be-d365fdac6e33",
   "metadata": {},
   "outputs": [
    {
     "name": "stdout",
     "output_type": "stream",
     "text": [
      "\n",
      "\n",
      "RelationRecord(items=frozenset({'spaghetti', 'ground beef', 'cereals'}), support=0.0030666666666666668, ordered_statistics=[OrderedStatistic(items_base=frozenset({'ground beef', 'cereals'}), items_add=frozenset({'spaghetti'}), confidence=0.676470588235294, lift=3.884785154490586)])\n",
      "__________________________________________________________________________________\n",
      "\n",
      "\n",
      "RelationRecord(items=frozenset({'spaghetti', 'olive oil', 'tomatoes'}), support=0.0044, ordered_statistics=[OrderedStatistic(items_base=frozenset({'olive oil', 'tomatoes'}), items_add=frozenset({'spaghetti'}), confidence=0.6111111111111112, lift=3.50944359367024)])\n",
      "__________________________________________________________________________________\n",
      "\n",
      "\n",
      "RelationRecord(items=frozenset({'milk', 'frozen vegetables', 'mineral water', 'soup'}), support=0.0030666666666666668, ordered_statistics=[OrderedStatistic(items_base=frozenset({'milk', 'frozen vegetables', 'soup'}), items_add=frozenset({'mineral water'}), confidence=0.7666666666666667, lift=3.2176832680470064), OrderedStatistic(items_base=frozenset({'mineral water', 'frozen vegetables', 'soup'}), items_add=frozenset({'milk'}), confidence=0.605263157894737, lift=4.670240415854452)])\n",
      "__________________________________________________________________________________\n"
     ]
    }
   ],
   "source": [
    "results = list(rule_list)\n",
    "for i in results:\n",
    "    print('\\n')\n",
    "    print(i)\n",
    "    print('__________________________________________________________________________________') "
   ]
  }
 ],
 "metadata": {
  "kernelspec": {
   "display_name": "Python 3 (ipykernel)",
   "language": "python",
   "name": "python3"
  },
  "language_info": {
   "codemirror_mode": {
    "name": "ipython",
    "version": 3
   },
   "file_extension": ".py",
   "mimetype": "text/x-python",
   "name": "python",
   "nbconvert_exporter": "python",
   "pygments_lexer": "ipython3",
   "version": "3.11.5"
  }
 },
 "nbformat": 4,
 "nbformat_minor": 5
}
