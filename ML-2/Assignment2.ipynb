{
 "cells": [
  {
   "cell_type": "markdown",
   "id": "372af089-e6a9-43c6-be08-5e9642ae3f9e",
   "metadata": {},
   "source": [
    "# ASSIGNMENT 2"
   ]
  },
  {
   "cell_type": "code",
   "execution_count": 4,
   "id": "24abf0de-49e4-49e3-bab9-421d9d9b380f",
   "metadata": {},
   "outputs": [
    {
     "name": "stdout",
     "output_type": "stream",
     "text": [
      "     YEAR    JAN    FEB    MAR    APR    MAY    JUN    JUL    AUG    SEP  \\\n",
      "0    1901  22.40  24.14  29.07  31.91  33.41  33.18  31.21  30.39  30.47   \n",
      "1    1902  24.93  26.58  29.77  31.78  33.73  32.91  30.92  30.73  29.80   \n",
      "2    1903  23.44  25.03  27.83  31.39  32.91  33.00  31.34  29.98  29.85   \n",
      "3    1904  22.50  24.73  28.21  32.02  32.64  32.07  30.36  30.09  30.04   \n",
      "4    1905  22.00  22.83  26.68  30.01  33.32  33.25  31.44  30.68  30.12   \n",
      "..    ...    ...    ...    ...    ...    ...    ...    ...    ...    ...   \n",
      "112  2013  24.56  26.59  30.62  32.66  34.46  32.44  31.07  30.76  31.04   \n",
      "113  2014  23.83  25.97  28.95  32.74  33.77  34.15  31.85  31.32  30.68   \n",
      "114  2015  24.58  26.89  29.07  31.87  34.09  32.48  31.88  31.52  31.55   \n",
      "115  2016  26.94  29.72  32.62  35.38  35.72  34.03  31.64  31.79  31.66   \n",
      "116  2017  26.45  29.46  31.60  34.95  35.84  33.82  31.88  31.72  32.22   \n",
      "\n",
      "       OCT    NOV    DEC  ANNUAL  JAN-FEB  MAR-MAY  JUN-SEP  OCT-DEC  \n",
      "0    29.97  27.31  24.49   28.96    23.27    31.46    31.27    27.25  \n",
      "1    29.12  26.31  24.04   29.22    25.75    31.76    31.09    26.49  \n",
      "2    29.04  26.08  23.65   28.47    24.24    30.71    30.92    26.26  \n",
      "3    29.20  26.36  23.63   28.49    23.62    30.95    30.66    26.40  \n",
      "4    30.67  27.52  23.82   28.30    22.25    30.00    31.33    26.57  \n",
      "..     ...    ...    ...     ...      ...      ...      ...      ...  \n",
      "112  30.27  27.83  25.37   29.81    25.58    32.58    31.33    27.83  \n",
      "113  30.29  28.05  25.08   29.72    24.90    31.82    32.00    27.81  \n",
      "114  31.04  28.10  25.67   29.90    25.74    31.68    31.87    28.27  \n",
      "115  31.98  30.11  28.01   31.63    28.33    34.57    32.28    30.03  \n",
      "116  32.29  29.60  27.18   31.42    27.95    34.13    32.41    29.69  \n",
      "\n",
      "[117 rows x 18 columns]\n"
     ]
    }
   ],
   "source": [
    "import pandas as pd\n",
    "df=pd.read_csv(r'temperatures.csv')\n",
    "print(df)"
   ]
  },
  {
   "cell_type": "code",
   "execution_count": 5,
   "id": "fbeb86f7-dde0-4ebc-a8ff-14f2c4eaa941",
   "metadata": {},
   "outputs": [
    {
     "name": "stdout",
     "output_type": "stream",
     "text": [
      "Shape of data:(117, 18)\n"
     ]
    }
   ],
   "source": [
    "shape=df.shape\n",
    "print(f'Shape of data:{shape}')"
   ]
  },
  {
   "cell_type": "code",
   "execution_count": 6,
   "id": "985aa4aa-0f26-4d27-8ded-7dae13852e39",
   "metadata": {},
   "outputs": [
    {
     "name": "stdout",
     "output_type": "stream",
     "text": [
      "Datatypes:YEAR         int64\n",
      "JAN        float64\n",
      "FEB        float64\n",
      "MAR        float64\n",
      "APR        float64\n",
      "MAY        float64\n",
      "JUN        float64\n",
      "JUL        float64\n",
      "AUG        float64\n",
      "SEP        float64\n",
      "OCT        float64\n",
      "NOV        float64\n",
      "DEC        float64\n",
      "ANNUAL     float64\n",
      "JAN-FEB    float64\n",
      "MAR-MAY    float64\n",
      "JUN-SEP    float64\n",
      "OCT-DEC    float64\n",
      "dtype: object\n"
     ]
    }
   ],
   "source": [
    "type=df.dtypes\n",
    "print(f'Datatypes:{type}')"
   ]
  },
  {
   "cell_type": "code",
   "execution_count": 7,
   "id": "8eb0d7b2-e66e-4324-aa37-f037e3961076",
   "metadata": {},
   "outputs": [
    {
     "name": "stdout",
     "output_type": "stream",
     "text": [
      "No. of zeros:YEAR       0\n",
      "JAN        0\n",
      "FEB        0\n",
      "MAR        0\n",
      "APR        0\n",
      "MAY        0\n",
      "JUN        0\n",
      "JUL        0\n",
      "AUG        0\n",
      "SEP        0\n",
      "OCT        0\n",
      "NOV        0\n",
      "DEC        0\n",
      "ANNUAL     0\n",
      "JAN-FEB    0\n",
      "MAR-MAY    0\n",
      "JUN-SEP    0\n",
      "OCT-DEC    0\n",
      "dtype: int64\n"
     ]
    }
   ],
   "source": [
    "zeros=(df==0).sum()\n",
    "print(f'No. of zeros:{zeros}')"
   ]
  },
  {
   "cell_type": "code",
   "execution_count": 8,
   "id": "8278e289-b31d-4956-9a47-7a0c44a1a242",
   "metadata": {},
   "outputs": [
    {
     "name": "stdout",
     "output_type": "stream",
     "text": [
      "No. of missing values:YEAR       0\n",
      "JAN        0\n",
      "FEB        0\n",
      "MAR        0\n",
      "APR        0\n",
      "MAY        0\n",
      "JUN        0\n",
      "JUL        0\n",
      "AUG        0\n",
      "SEP        0\n",
      "OCT        0\n",
      "NOV        0\n",
      "DEC        0\n",
      "ANNUAL     0\n",
      "JAN-FEB    0\n",
      "MAR-MAY    0\n",
      "JUN-SEP    0\n",
      "OCT-DEC    0\n",
      "dtype: int64\n"
     ]
    }
   ],
   "source": [
    "missing=df.isnull().sum()\n",
    "print(f'No. of missing values:{missing}')"
   ]
  },
  {
   "cell_type": "markdown",
   "id": "2c0e7168-f3ae-439f-a801-581f3b3bb161",
   "metadata": {},
   "source": [
    "### a. Apply Linear Regression and predict the month-wise temperature\n",
    "\n",
    "Here JAN month is chosen"
   ]
  },
  {
   "cell_type": "code",
   "execution_count": 9,
   "id": "285e3034-285c-493f-b7c9-d9df3787862b",
   "metadata": {},
   "outputs": [
    {
     "name": "stdout",
     "output_type": "stream",
     "text": [
      "X_train\n",
      "[[2012]\n",
      " [1966]\n",
      " [1981]\n",
      " [1931]\n",
      " [1974]\n",
      " [1948]\n",
      " [1910]\n",
      " [1934]\n",
      " [2011]\n",
      " [1968]\n",
      " [1929]\n",
      " [1946]\n",
      " [1984]\n",
      " [1906]\n",
      " [1985]\n",
      " [1967]\n",
      " [1940]\n",
      " [1936]\n",
      " [1917]\n",
      " [1965]\n",
      " [1935]\n",
      " [1956]\n",
      " [1908]\n",
      " [1944]\n",
      " [1971]\n",
      " [1978]\n",
      " [1928]\n",
      " [1920]\n",
      " [1994]\n",
      " [1999]\n",
      " [1926]\n",
      " [1909]\n",
      " [1997]\n",
      " [1950]\n",
      " [1914]\n",
      " [2008]\n",
      " [1904]\n",
      " [1918]\n",
      " [1939]\n",
      " [1991]\n",
      " [1907]\n",
      " [1989]\n",
      " [2001]\n",
      " [2015]\n",
      " [1955]\n",
      " [1951]\n",
      " [1979]\n",
      " [1947]\n",
      " [1982]\n",
      " [1962]\n",
      " [2014]\n",
      " [1980]\n",
      " [1992]\n",
      " [1942]\n",
      " [1959]\n",
      " [1949]\n",
      " [2009]\n",
      " [1958]\n",
      " [1976]\n",
      " [1933]\n",
      " [2010]\n",
      " [1960]\n",
      " [1964]\n",
      " [1998]\n",
      " [1938]\n",
      " [1930]\n",
      " [2004]\n",
      " [1902]\n",
      " [1953]\n",
      " [1922]\n",
      " [1903]\n",
      " [1924]\n",
      " [2000]\n",
      " [1988]\n",
      " [2006]\n",
      " [1975]\n",
      " [1987]\n",
      " [1983]\n",
      " [2017]\n",
      " [1921]\n",
      " [1961]\n",
      " [1972]\n",
      " [2007]\n",
      " [1915]\n",
      " [1993]\n",
      " [1952]\n",
      " [2003]]\n",
      "\n",
      "X_test\n",
      "[[1945]\n",
      " [1905]\n",
      " [1954]\n",
      " [1943]\n",
      " [1911]\n",
      " [1986]\n",
      " [1973]\n",
      " [1995]\n",
      " [1937]\n",
      " [1912]\n",
      " [1941]\n",
      " [1927]\n",
      " [1996]\n",
      " [2005]\n",
      " [1919]\n",
      " [1901]\n",
      " [1963]\n",
      " [2013]\n",
      " [1977]\n",
      " [2002]\n",
      " [1969]\n",
      " [1990]\n",
      " [2016]\n",
      " [1913]\n",
      " [1916]\n",
      " [1970]\n",
      " [1932]\n",
      " [1925]\n",
      " [1957]\n",
      " [1923]]\n",
      "\n",
      "y_train\n",
      "111    23.61\n",
      "65     24.11\n",
      "80     23.73\n",
      "30     24.57\n",
      "73     23.54\n",
      "       ...  \n",
      "106    25.19\n",
      "14     22.60\n",
      "92     23.82\n",
      "51     23.91\n",
      "102    24.27\n",
      "Name: JAN, Length: 87, dtype: float64\n",
      "\n",
      "y_test\n",
      "44     22.38\n",
      "4      22.00\n",
      "53     22.79\n",
      "42     22.97\n",
      "10     23.22\n",
      "85     23.61\n",
      "72     24.02\n",
      "94     24.44\n",
      "36     23.34\n",
      "11     23.70\n",
      "40     23.18\n",
      "26     23.23\n",
      "95     25.18\n",
      "104    24.18\n",
      "18     23.32\n",
      "0      22.40\n",
      "62     22.90\n",
      "112    24.56\n",
      "76     23.98\n",
      "101    24.56\n",
      "68     23.78\n",
      "89     24.24\n",
      "115    26.94\n",
      "12     23.71\n",
      "15     24.13\n",
      "69     24.19\n",
      "31     24.13\n",
      "24     22.56\n",
      "56     22.98\n",
      "22     23.25\n",
      "Name: JAN, dtype: float64\n"
     ]
    }
   ],
   "source": [
    "from sklearn.model_selection import train_test_split\n",
    "import numpy as np\n",
    "\n",
    "X = df['YEAR']\n",
    "y = df['JAN']\n",
    "\n",
    "X_reshaped = np.array(X).reshape(-1, 1)\n",
    "\n",
    "X_train, X_test, y_train, y_test = train_test_split(X_reshaped, y, test_size=0.25, random_state=42)\n",
    "\n",
    "print(\"X_train\")\n",
    "print(X_train)\n",
    "print(\"\\nX_test\")\n",
    "print(X_test)\n",
    "\n",
    "print(\"\\ny_train\")\n",
    "print(y_train)\n",
    "print(\"\\ny_test\")\n",
    "print(y_test)\n"
   ]
  },
  {
   "cell_type": "markdown",
   "id": "1b753486-cab9-4a09-a4f8-f4b3f2dc5eeb",
   "metadata": {},
   "source": [
    "### b. Assess the performance of regression models using MSE, MAE and R-Square metrics"
   ]
  },
  {
   "cell_type": "code",
   "execution_count": 10,
   "id": "dc5ce02e-a16f-476c-aab2-ade0054b7f1d",
   "metadata": {
    "scrolled": true
   },
   "outputs": [
    {
     "name": "stdout",
     "output_type": "stream",
     "text": [
      "MAE: 0.5220295907600104\n",
      "MSE: 0.5285626287719306\n",
      "R-squared: 0.41999343079141704\n"
     ]
    }
   ],
   "source": [
    "from sklearn.linear_model import LinearRegression\n",
    "from sklearn.metrics import mean_absolute_error,mean_squared_error,r2_score\n",
    "\n",
    "model=LinearRegression()\n",
    "model.fit(X_train,y_train)\n",
    "y_pred=model.predict(X_test)\n",
    "\n",
    "mae=mean_absolute_error(y_test,y_pred)\n",
    "mse=mean_squared_error(y_test,y_pred)\n",
    "r2=r2_score(y_test,y_pred)\n",
    "\n",
    "print(f'MAE: {mae}')\n",
    "print(f'MSE: {mse}')\n",
    "print(f'R-squared: {r2}')"
   ]
  },
  {
   "cell_type": "markdown",
   "id": "42664ce4-695d-43df-bee7-8bfc14381991",
   "metadata": {},
   "source": [
    "### c. Visualizing model"
   ]
  },
  {
   "cell_type": "code",
   "execution_count": 11,
   "id": "cba6d8fa-81d3-4509-aaaa-ea417befc1d5",
   "metadata": {},
   "outputs": [
    {
     "data": {
      "image/png": "[encoded data removed]",
      "text/plain": [
       "<Figure size 640x480 with 1 Axes>"
      ]
     },
     "metadata": {},
     "output_type": "display_data"
    }
   ],
   "source": [
    "import matplotlib.pyplot as plt\n",
    "\n",
    "plt.scatter(X_test,y_test,color=\"blue\",label=\"Actual values\")\n",
    "plt.plot(X_test,y_pred,color=\"red\",label=\"Predicted values\")\n",
    "plt.title(\"Linear Regression Model\")\n",
    "plt.xlabel(\"Year\")\n",
    "plt.ylabel(\"Temperature\")\n",
    "plt.show()"
   ]
  }
 ],
 "metadata": {
  "kernelspec": {
   "display_name": "Python 3 (ipykernel)",
   "language": "python",
   "name": "python3"
  },
  "language_info": {
   "codemirror_mode": {
    "name": "ipython",
    "version": 3
   },
   "file_extension": ".py",
   "mimetype": "text/x-python",
   "name": "python",
   "nbconvert_exporter": "python",
   "pygments_lexer": "ipython3",
   "version": "3.11.5"
  }
 },
 "nbformat": 4,
 "nbformat_minor": 5
}
