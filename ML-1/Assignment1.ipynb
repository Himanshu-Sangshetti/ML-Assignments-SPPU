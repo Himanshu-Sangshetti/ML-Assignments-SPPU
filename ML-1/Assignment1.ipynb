{
 "cells": [
  {
   "cell_type": "markdown",
   "id": "30e54c4c-43ad-46e1-9cf2-37afcdc3fcbd",
   "metadata": {},
   "source": [
    "#                                                            ASSIGNMENT 1"
   ]
  },
  {
   "cell_type": "code",
   "execution_count": 17,
   "id": "3dd57f85-0705-4f66-86cb-f3b0d4ea88e1",
   "metadata": {
    "scrolled": true
   },
   "outputs": [
    {
     "name": "stdout",
     "output_type": "stream",
     "text": [
      "     age  sex  cp  trtbps  chol  fbs  restecg  thalachh  exng  oldpeak  slp  \\\n",
      "0     63    1   3     145   233    1        0       150     0      2.3    0   \n",
      "1     37    1   2     130   250    0        1       187     0      3.5    0   \n",
      "2     41    0   1     130   204    0        0       172     0      1.4    2   \n",
      "3     56    1   1     120   236    0        1       178     0      0.8    2   \n",
      "4     57    0   0     120   354    0        1       163     1      0.6    2   \n",
      "..   ...  ...  ..     ...   ...  ...      ...       ...   ...      ...  ...   \n",
      "298   57    0   0     140   241    0        1       123     1      0.2    1   \n",
      "299   45    1   3     110   264    0        1       132     0      1.2    1   \n",
      "300   68    1   0     144   193    1        1       141     0      3.4    1   \n",
      "301   57    1   0     130   131    0        1       115     1      1.2    1   \n",
      "302   57    0   1     130   236    0        0       174     0      0.0    1   \n",
      "\n",
      "     caa  thall  output  \n",
      "0      0      1       1  \n",
      "1      0      2       1  \n",
      "2      0      2       1  \n",
      "3      0      2       1  \n",
      "4      0      2       1  \n",
      "..   ...    ...     ...  \n",
      "298    0      3       0  \n",
      "299    0      3       0  \n",
      "300    2      3       0  \n",
      "301    1      3       0  \n",
      "302    1      2       0  \n",
      "\n",
      "[303 rows x 14 columns]\n"
     ]
    }
   ],
   "source": [
    "import pandas as pd\n",
    "df=pd.read_csv(r'heart.csv')\n",
    "print(df)"
   ]
  },
  {
   "cell_type": "markdown",
   "id": "c287772c-0a09-46d6-9efb-a4790d9a862c",
   "metadata": {},
   "source": [
    "### a) Find Shape of Data"
   ]
  },
  {
   "cell_type": "code",
   "execution_count": 18,
   "id": "e305f4a5-061a-434f-8861-a51c1155f727",
   "metadata": {},
   "outputs": [
    {
     "name": "stdout",
     "output_type": "stream",
     "text": [
      "Shape of the data is:\n",
      "(303, 14)\n"
     ]
    }
   ],
   "source": [
    "shape=df.shape\n",
    "print(\"Shape of the data is:\")\n",
    "print(shape)"
   ]
  },
  {
   "cell_type": "markdown",
   "id": "55f9a90f-56e1-4892-9a4a-343b88850e37",
   "metadata": {},
   "source": [
    "### b) Find Missing Values"
   ]
  },
  {
   "cell_type": "code",
   "execution_count": 19,
   "id": "f6c705ca-585a-4409-b7d3-efb9ea2b6f66",
   "metadata": {},
   "outputs": [
    {
     "name": "stdout",
     "output_type": "stream",
     "text": [
      "Missing values of the data are:\n",
      "age         0\n",
      "sex         0\n",
      "cp          0\n",
      "trtbps      0\n",
      "chol        0\n",
      "fbs         0\n",
      "restecg     0\n",
      "thalachh    0\n",
      "exng        0\n",
      "oldpeak     0\n",
      "slp         0\n",
      "caa         0\n",
      "thall       0\n",
      "output      0\n",
      "dtype: int64\n"
     ]
    }
   ],
   "source": [
    "missing=df.isnull().sum()\n",
    "print(\"Missing values of the data are:\")\n",
    "print(missing)"
   ]
  },
  {
   "cell_type": "markdown",
   "id": "3b8a1708-c859-49fb-8489-829f0e497baf",
   "metadata": {},
   "source": [
    "### c) Find data type of each column"
   ]
  },
  {
   "cell_type": "code",
   "execution_count": 20,
   "id": "dbf8a4f3-cf4a-480e-937f-8e40949be55c",
   "metadata": {},
   "outputs": [
    {
     "name": "stdout",
     "output_type": "stream",
     "text": [
      "The datatypes are:\n",
      "age           int64\n",
      "sex           int64\n",
      "cp            int64\n",
      "trtbps        int64\n",
      "chol          int64\n",
      "fbs           int64\n",
      "restecg       int64\n",
      "thalachh      int64\n",
      "exng          int64\n",
      "oldpeak     float64\n",
      "slp           int64\n",
      "caa           int64\n",
      "thall         int64\n",
      "output        int64\n",
      "dtype: object\n"
     ]
    }
   ],
   "source": [
    "type=df.dtypes\n",
    "print(\"The datatypes are:\")\n",
    "print(type)"
   ]
  },
  {
   "cell_type": "markdown",
   "id": "23bbad9d-0a42-4214-994e-739b1987b993",
   "metadata": {},
   "source": [
    "### d) Finding out Zero's"
   ]
  },
  {
   "cell_type": "code",
   "execution_count": 21,
   "id": "03726946-5ac5-48a1-a7af-ed9fe9307031",
   "metadata": {},
   "outputs": [
    {
     "name": "stdout",
     "output_type": "stream",
     "text": [
      "Number of zeros present\n",
      "age           0\n",
      "sex          96\n",
      "cp          143\n",
      "trtbps        0\n",
      "chol          0\n",
      "fbs         258\n",
      "restecg     147\n",
      "thalachh      0\n",
      "exng        204\n",
      "oldpeak      99\n",
      "slp          21\n",
      "caa         175\n",
      "thall         2\n",
      "output      138\n",
      "dtype: int64\n"
     ]
    }
   ],
   "source": [
    "zero_count=(df==0).sum()\n",
    "print(\"Number of zeros present\")\n",
    "print(zero_count)"
   ]
  },
  {
   "cell_type": "markdown",
   "id": "b33a2b55-5cbe-457d-8be7-911088d004b7",
   "metadata": {},
   "source": [
    "### e) Mean age of patients"
   ]
  },
  {
   "cell_type": "code",
   "execution_count": 22,
   "id": "10bb2e49-102d-4883-a25a-f9a2262fa47c",
   "metadata": {},
   "outputs": [
    {
     "name": "stdout",
     "output_type": "stream",
     "text": [
      "Mean age is:\n",
      "54.366336633663366\n"
     ]
    }
   ],
   "source": [
    "mean_age=df['age'].mean()\n",
    "print(\"Mean age is:\")\n",
    "print(mean_age)"
   ]
  },
  {
   "cell_type": "markdown",
   "id": "368fa05f-2fe1-42ee-b591-0dbb9552674b",
   "metadata": {},
   "source": [
    "### f) Extract only Age, Sex, ChestPain, Chol. Randomly divide dataset in training(75%) and testing (25%)."
   ]
  },
  {
   "cell_type": "code",
   "execution_count": 23,
   "id": "8c0f1a82-b7aa-4764-a0e9-5df8bb570142",
   "metadata": {},
   "outputs": [
    {
     "name": "stdout",
     "output_type": "stream",
     "text": [
      "X_train\n",
      "     age  sex  cp  chol\n",
      "287   57    1   1   232\n",
      "282   59    1   2   218\n",
      "197   67    1   0   254\n",
      "158   58    1   1   220\n",
      "164   38    1   2   175\n",
      "..   ...  ...  ..   ...\n",
      "188   50    1   2   233\n",
      "71    51    1   2   227\n",
      "106   69    1   3   234\n",
      "270   46    1   0   249\n",
      "102   63    0   1   195\n",
      "\n",
      "[227 rows x 4 columns]\n",
      "\n",
      "X_test\n",
      "     age  sex  cp  chol\n",
      "179   57    1   0   276\n",
      "228   59    1   3   288\n",
      "111   57    1   2   126\n",
      "246   56    0   0   409\n",
      "60    71    0   2   265\n",
      "..   ...  ...  ..   ...\n",
      "22    42    1   0   226\n",
      "258   62    0   0   244\n",
      "56    48    1   0   222\n",
      "242   64    1   0   212\n",
      "114   55    1   1   262\n",
      "\n",
      "[76 rows x 4 columns]\n",
      "\n",
      "y_train\n",
      "287    0\n",
      "282    0\n",
      "197    0\n",
      "158    1\n",
      "164    1\n",
      "      ..\n",
      "188    0\n",
      "71     1\n",
      "106    1\n",
      "270    0\n",
      "102    1\n",
      "Name: output, Length: 227, dtype: int64\n",
      "\n",
      "y_test\n",
      "179    0\n",
      "228    0\n",
      "111    1\n",
      "246    0\n",
      "60     1\n",
      "      ..\n",
      "22     1\n",
      "258    0\n",
      "56     1\n",
      "242    0\n",
      "114    1\n",
      "Name: output, Length: 76, dtype: int64\n"
     ]
    }
   ],
   "source": [
    "from sklearn.model_selection import train_test_split\n",
    "\n",
    "selected_columns=[\"age\",\"sex\",\"cp\",\"chol\"]\n",
    "X=df[selected_columns]\n",
    "y=df['output']\n",
    "    \n",
    "X_train,X_test,y_train,y_test=train_test_split(X,y,test_size=0.25,random_state=42)\n",
    "print(\"X_train\")\n",
    "print(X_train)\n",
    "print(\"\\nX_test\")\n",
    "print(X_test)\n",
    "    \n",
    "print(\"\\ny_train\")\n",
    "print(y_train)\n",
    "print(\"\\ny_test\")\n",
    "print(y_test)"
   ]
  },
  {
   "cell_type": "markdown",
   "id": "409bd01c-ce90-4b26-80ae-961aa5303b5e",
   "metadata": {},
   "source": [
    "### Confusion matrix and performance score for the above dataset"
   ]
  },
  {
   "cell_type": "code",
   "execution_count": 24,
   "id": "3d9eec0f-19e0-4edf-9fae-34f0aa960684",
   "metadata": {},
   "outputs": [
    {
     "name": "stdout",
     "output_type": "stream",
     "text": [
      "\n",
      " Confusion Matrix:\n",
      "[[29  6]\n",
      " [12 29]]\n",
      "Accuracy: 0.7631578947368421\n",
      "Precision: 0.8285714285714286\n",
      "Recall: 0.7073170731707317\n",
      "F1-Score: 0.7631578947368421\n"
     ]
    }
   ],
   "source": [
    "from sklearn.linear_model import LogisticRegression\n",
    "from sklearn.metrics import confusion_matrix,accuracy_score,recall_score,precision_score,f1_score\n",
    "\n",
    "model=LogisticRegression(max_iter=1000)\n",
    "model.fit(X_train,y_train)\n",
    "y_pred=model.predict(X_test)\n",
    "\n",
    "cm=confusion_matrix(y_test,y_pred)\n",
    "print(\"\\n Confusion Matrix:\")\n",
    "print(cm)\n",
    "\n",
    "accuracy = accuracy_score(y_test, y_pred)\n",
    "print(f\"Accuracy: {accuracy}\")\n",
    "\n",
    "precision = precision_score(y_test, y_pred)\n",
    "print(f\"Precision: {precision}\")\n",
    "\n",
    "recall = recall_score(y_test, y_pred)\n",
    "print(f\"Recall: {recall}\")\n",
    "\n",
    "f1 = f1_score(y_test, y_pred)\n",
    "print(f\"F1-Score: {f1}\")"
   ]
  },
  {
   "cell_type": "markdown",
   "id": "a24c0323-d937-4087-ad69-704c62cbe0ed",
   "metadata": {},
   "source": [
    "### Graphical representation of performance metrics for the above dataset"
   ]
  },
  {
   "cell_type": "code",
   "execution_count": 25,
   "id": "3a33e2ac-8f30-49b6-a6a9-5f34b5ffaae9",
   "metadata": {},
   "outputs": [
    {
     "data": {
      "image/png": "[encoded data removed]",
      "text/plain": [
       "<Figure size 600x400 with 1 Axes>"
      ]
     },
     "metadata": {},
     "output_type": "display_data"
    }
   ],
   "source": [
    "import matplotlib.pyplot as plt\n",
    "\n",
    "labels=['Accuracy','Precision','Recall','F1-Score']\n",
    "values=[accuracy,precision,recall,f1]\n",
    "\n",
    "plt.figure(figsize=(6,4))\n",
    "plt.bar(labels,values,color=['blue','green','red','purple'])\n",
    "\n",
    "plt.title('Performance metrics')\n",
    "plt.xlabel('Metrics')\n",
    "plt.ylabel('Values')\n",
    "\n",
    "plt.show()"
   ]
  },
  {
   "cell_type": "markdown",
   "id": "4a744f61-8842-4db8-93d9-bf06f56e3b36",
   "metadata": {},
   "source": [
    "### Confusion Matrix\n",
    "\n",
    "Through the diagnosis test I predicted 100 report as COVID positive, but only 45 of those were actually positive. Total 50 people in my sample were actually COVID positive. I have total 500 samples.\n"
   ]
  },
  {
   "cell_type": "code",
   "execution_count": 26,
   "id": "3b56f7d1-a92b-4dff-a68e-244cacb4caca",
   "metadata": {},
   "outputs": [
    {
     "name": "stdout",
     "output_type": "stream",
     "text": [
      "Confusion Matrix:\n",
      "[45, 55]\n",
      "[395, 5]\n",
      "\n",
      "Accuracy: 0.88\n",
      "Precision: 0.45\n",
      "Recall: 0.9\n",
      "F1 Score: 0.6\n"
     ]
    }
   ],
   "source": [
    "total_samples = 500\n",
    "predicted_positive = 100\n",
    "actual_positive = 50\n",
    "true_positive = 45\n",
    "\n",
    "\n",
    "true_negative = total_samples - predicted_positive - actual_positive + true_positive\n",
    "false_positive = predicted_positive - true_positive\n",
    "false_negative = actual_positive - true_positive\n",
    "\n",
    "accuracy = (true_positive + true_negative) / total_samples\n",
    "precision = true_positive / (true_positive + false_positive)\n",
    "recall = true_positive / (true_positive + false_negative)\n",
    "f1_score = 2 * (precision * recall) / (precision + recall)\n",
    "\n",
    "confusion_matrix = [[true_positive, false_positive], [true_negative,false_negative]]\n",
    "\n",
    "print(\"Confusion Matrix:\")\n",
    "for row in confusion_matrix:\n",
    "    print(row)\n",
    "\n",
    "print(\"\\nAccuracy:\", accuracy)\n",
    "print(\"Precision:\", precision)\n",
    "print(\"Recall:\", recall)\n",
    "print(\"F1 Score:\", f1_score)"
   ]
  },
  {
   "cell_type": "markdown",
   "id": "13ef0389-3944-48d3-b943-46c990d0dce7",
   "metadata": {},
   "source": [
    "#### Graphical representation of performance metrics for the above data"
   ]
  },
  {
   "cell_type": "code",
   "execution_count": 27,
   "id": "72c1a1fa-7df4-4649-a8a2-25f3f252d707",
   "metadata": {},
   "outputs": [
    {
     "data": {
      "image/png": "[encoded data removed]",
      "text/plain": [
       "<Figure size 600x400 with 1 Axes>"
      ]
     },
     "metadata": {},
     "output_type": "display_data"
    }
   ],
   "source": [
    "import matplotlib.pyplot as plt\n",
    "\n",
    "labels=['Accuracy','Precision','Recall','F1-Score']\n",
    "values=[accuracy,precision,recall,f1]\n",
    "\n",
    "plt.figure(figsize=(6,4))\n",
    "plt.bar(labels,values,color=['blue','green','red','purple'])\n",
    "\n",
    "plt.title('Performance metrics')\n",
    "plt.xlabel('Metrics')\n",
    "plt.ylabel('Values')\n",
    "\n",
    "plt.show()"
   ]
  }
 ],
 "metadata": {
  "kernelspec": {
   "display_name": "Python 3 (ipykernel)",
   "language": "python",
   "name": "python3"
  },
  "language_info": {
   "codemirror_mode": {
    "name": "ipython",
    "version": 3
   },
   "file_extension": ".py",
   "mimetype": "text/x-python",
   "name": "python",
   "nbconvert_exporter": "python",
   "pygments_lexer": "ipython3",
   "version": "3.11.5"
  }
 },
 "nbformat": 4,
 "nbformat_minor": 5
}
